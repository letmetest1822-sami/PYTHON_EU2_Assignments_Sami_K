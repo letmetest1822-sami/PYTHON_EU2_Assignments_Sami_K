{
 "cells": [
  {
   "cell_type": "code",
   "execution_count": 1,
   "metadata": {},
   "outputs": [
    {
     "name": "stdout",
     "output_type": "stream",
     "text": [
      " 15 gallons equals to  : 56.7812\n"
     ]
    }
   ],
   "source": [
    "'''Question_01_gal_lt\n",
    "\n",
    "Write a program to convert gallons into Liters and display it.\n",
    "Sample output:\n",
    "15 gallon is 56.7812 liter\n",
    "'''\n",
    "\n",
    "gallons = 15;\n",
    "litres = gallons * 3.785413333333333;\n",
    "\n",
    "print(\" {} gallons equals to  : {}\".format(gallons, litres));"
   ]
  },
  {
   "cell_type": "code",
   "execution_count": 2,
   "metadata": {},
   "outputs": [
    {
     "name": "stdout",
     "output_type": "stream",
     "text": [
      " Hello, Ozzy! Based on your input, your age is 15 )\n"
     ]
    }
   ],
   "source": [
    "'''Question_02_OzzyAge\n",
    "\n",
    "* Declare variables for your name and birth year, and the program will display\n",
    " * \" Hello, Ozzy! Based on your input, your age is 15 :) \"\n",
    "'''\n",
    "\n",
    "name = \"Ozzy\";\n",
    "age = 15 ;\n",
    "\n",
    "print(\" Hello, {}! Based on your input, your age is {} )\".format(name, age));"
   ]
  },
  {
   "cell_type": "code",
   "execution_count": 3,
   "metadata": {},
   "outputs": [
    {
     "name": "stdout",
     "output_type": "stream",
     "text": [
      "The area of the rectangle is 35.55\n"
     ]
    }
   ],
   "source": [
    "'''Question_03_rectangle\n",
    "\n",
    "*Write a Python program that displays the area of a \n",
    "* rectangle with a width of 4.5 and a height of 7.9 \n",
    "* using the following formula:\n",
    " * area = width * height \n",
    "\n",
    "'''\n",
    "width=4.5;\n",
    "height =7.9;\n",
    "\n",
    "area = width * height \n",
    "\n",
    "print(\"The area of the rectangle is {0:5.2f}\".format(area)); #0:5 means 5 digit number .2f means 2 decimal digits\n"
   ]
  },
  {
   "cell_type": "code",
   "execution_count": 4,
   "metadata": {},
   "outputs": [
    {
     "name": "stdout",
     "output_type": "stream",
     "text": [
      "20 10\n"
     ]
    }
   ],
   "source": [
    "'''Question_04_swapNums (Easy way)\n",
    "\n",
    "Declare 2 variables (Num1, Num2)\n",
    "Swap values between Num1 and Num2\n",
    "Display new values of Num1 and Num2\n",
    "\n",
    "'''\n",
    "num1 = 10;\n",
    "num2 = 20;\n",
    "\n",
    "num1, num2 = num2, num1;\n",
    "\n",
    "print(num1,num2)"
   ]
  },
  {
   "cell_type": "code",
   "execution_count": 5,
   "metadata": {},
   "outputs": [
    {
     "name": "stdout",
     "output_type": "stream",
     "text": [
      "20 10\n"
     ]
    }
   ],
   "source": [
    "'''Question_04_swapNums (Other way)\n",
    "\n",
    "Declare 2 variables (Num1, Num2)\n",
    "Swap values between Num1 and Num2\n",
    "Display new values of Num1 and Num2\n",
    "\n",
    "'''\n",
    "num1 = 10;\n",
    "num2 = 20;\n",
    "\n",
    "swap = 0;\n",
    "\n",
    "swap=num1;\n",
    "num1 = num2;\n",
    "num2 = swap;\n",
    "\n",
    "print(num1,num2)"
   ]
  },
  {
   "cell_type": "code",
   "execution_count": 6,
   "metadata": {},
   "outputs": [
    {
     "name": "stdout",
     "output_type": "stream",
     "text": [
      " 5 hours,  5 minutes,  5 seconds.\n"
     ]
    }
   ],
   "source": [
    "'''Question_05_SecMinHours\n",
    "\n",
    "*Write a program that outputs the number of hours, minutes, and seconds that corresponds to input total seconds.\n",
    "\n",
    "'''\n",
    "\n",
    "\n",
    "totalSec=20000; \n",
    "        #This is all we have at the beginning\n",
    "\n",
    "minRemain=totalSec-(totalSec%60); \n",
    "        # This will convert given total seconds to minutes except the remaining seconds less than one minute.\n",
    "\n",
    "totalMin = minRemain/60;\n",
    "min=totalMin%60;\n",
    "        # This will  give us how many minutes we have less than one hour after taking the number of hours from total minutes .\n",
    "\n",
    "hourRemain=(totalMin-(totalMin%60))/60;\n",
    "hour=hourRemain%60;\n",
    "        # This will  give us how many hours we have \n",
    "\n",
    "sec= totalSec%60;\n",
    "        # This will  give us how many seconds remaining we have less than a minute.\n",
    "\n",
    "print(\"{0:2.0f} hours, {0:2.0f} minutes, {0:2.0f} seconds.\".format(hour, min, sec ));"
   ]
  },
  {
   "cell_type": "code",
   "execution_count": 7,
   "metadata": {},
   "outputs": [
    {
     "name": "stdout",
     "output_type": "stream",
     "text": [
      "Number of milligrams in a (16-ounce) cup of coffee: 160 mgs \n",
      "It would take about  62  cups of coffee for a lethal overdose\n",
      "\n",
      "Number of milligrams in a (12-ounce) can of cola : 34 mgs\n",
      "It would take about 294  cans of cola for a lethal overdose\n"
     ]
    }
   ],
   "source": [
    "'''Question_06_caffein\n",
    "\n",
    "Write a program with a variable that holds the number of milligrams of caffeine in a drink \n",
    "and outputs how many drinks it takes to kill a person.\n",
    "\n",
    "'''\n",
    "\n",
    "mgCaffein_ounce12_can = 34;\n",
    "mgCaffein_ounce16_cup = 160;\n",
    "\n",
    "LethalnumberOfCans =  (10_000/mgCaffein_ounce12_can);  \n",
    "LethalnumberOfCups =  (10_000/mgCaffein_ounce16_cup); \n",
    "\n",
    "print (\"Number of milligrams in a (16-ounce) cup of coffee: {} mgs \".format (mgCaffein_ounce16_cup))\n",
    "print (\"It would take about {0:3.0f}  cups of coffee for a lethal overdose\".format(LethalnumberOfCups))\n",
    "print (\"\\nNumber of milligrams in a (12-ounce) can of cola : {} mgs\".format(mgCaffein_ounce12_can))\n",
    "print (\"It would take about {0:3.0f}  cans of cola for a lethal overdose\".format(LethalnumberOfCans))\n"
   ]
  },
  {
   "cell_type": "code",
   "execution_count": 8,
   "metadata": {},
   "outputs": [
    {
     "name": "stdout",
     "output_type": "stream",
     "text": [
      "The change is 1 quarters, 1 dimes and 1 nickels.\n"
     ]
    }
   ],
   "source": [
    "''' Question_07_VendingMachine\n",
    "* Write a program that determines the change to be dispensed from a vending machine. \n",
    "* An item in the machine can cost between 25 cents and 1 dollar, in 5-cent increments (25, 30, 35, . . . , 90, 95, or 100), \n",
    "* and the machine accepts only a single dollar bill to pay for the item.\n",
    "\n",
    "'''\n",
    "itemPrice =60;\n",
    "acceptedMoney=100;\n",
    "\n",
    "numberOfQuarters = (acceptedMoney-itemPrice)//25;\n",
    "numberOfDimes = ((acceptedMoney-itemPrice)%25)//10;\n",
    "numberOfNickles = ((acceptedMoney-itemPrice)%25)%10//5;\n",
    "\n",
    "print(\"The change is {} quarters, {} dimes and {} nickels.\".format(numberOfQuarters, numberOfDimes, numberOfNickles));"
   ]
  }
 ],
 "metadata": {
  "kernelspec": {
   "display_name": "Python 3",
   "language": "python",
   "name": "python3"
  },
  "language_info": {
   "codemirror_mode": {
    "name": "ipython",
    "version": 3
   },
   "file_extension": ".py",
   "mimetype": "text/x-python",
   "name": "python",
   "nbconvert_exporter": "python",
   "pygments_lexer": "ipython3",
   "version": "3.7.3"
  }
 },
 "nbformat": 4,
 "nbformat_minor": 2
}
