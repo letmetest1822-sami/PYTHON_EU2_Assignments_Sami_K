{
 "cells": [
  {
   "cell_type": "code",
   "execution_count": 1,
   "metadata": {},
   "outputs": [
    {
     "name": "stdout",
     "output_type": "stream",
     "text": [
      "enter a number      : 1\n",
      "enter second number : 2\n",
      "result   =   3\n"
     ]
    }
   ],
   "source": [
    "\"\"\" Question01_plus\n",
    "\n",
    "* Create a method called \"plus\", its return is void and it gets no arguments.\n",
    "* It asks the user to input two numbers, then it will add them and print the result.\n",
    "* Create a scanner within the plus method.\n",
    "\n",
    "    Example:\n",
    "\n",
    "        enter a number:\n",
    "        1\n",
    "        enter second number:\n",
    "        2\n",
    "            result: 3\n",
    "\"\"\"\n",
    "def plus():\n",
    "    number1 = int(input(\"enter a number      : \"))\n",
    "    number2 = int(input(\"enter second number : \"))\n",
    "    \n",
    "    result = number1 + number2\n",
    "    \n",
    "    return result\n",
    "\n",
    "print(\"result   =  \", plus())"
   ]
  },
  {
   "cell_type": "code",
   "execution_count": 2,
   "metadata": {},
   "outputs": [
    {
     "name": "stdout",
     "output_type": "stream",
     "text": [
      "Enter a number to calculate its cube : 5\n",
      "The cubed value of the number is :  125\n"
     ]
    }
   ],
   "source": [
    "\"\"\" Question02_cube\n",
    "\n",
    "* Create a method called cube. \n",
    "* Write all required code inside this method in order to \n",
    "* ask the user for a number and then prints the cubed value of that number:\n",
    "\n",
    "    Example:\n",
    "\n",
    "    input: 5\n",
    "    output: 125\n",
    "\n",
    "\n",
    "\"\"\"\n",
    "def cube ():\n",
    "    number = int(input('Enter a number to calculate its cube : '))\n",
    "    cube = number**3\n",
    "    return cube\n",
    "print('The cubed value of the number is : ', cube())"
   ]
  },
  {
   "cell_type": "code",
   "execution_count": 3,
   "metadata": {},
   "outputs": [
    {
     "name": "stdout",
     "output_type": "stream",
     "text": [
      "Hello World!"
     ]
    }
   ],
   "source": [
    "\"\"\" Question03_HelloWorld\n",
    "\n",
    "* Create 2 methods called hello() and world(). \n",
    "* Provide an implementation for both of them in order to print an appropriate message. \n",
    "* So hello() method should print \"Hello\" \n",
    "* and world() method should print \"World!\".\n",
    " \n",
    " output: Hello World!\n",
    "\n",
    "\"\"\"\n",
    "def word1():\n",
    "    print('Hello ' ,end=\"\")\n",
    "    \n",
    "def word2():\n",
    "   print('World!',end=\"\")\n",
    "\n",
    "word1()\n",
    "word2()\n"
   ]
  },
  {
   "cell_type": "code",
   "execution_count": 4,
   "metadata": {},
   "outputs": [
    {
     "name": "stdout",
     "output_type": "stream",
     "text": [
      "*****\n",
      "*   *\n",
      "*   *\n",
      "*   *\n",
      "*****\n"
     ]
    }
   ],
   "source": [
    "\"\"\" Question04_printHollowRect\n",
    "\n",
    "* Create a method printHollowRect that prints a 5 on 5 hollow rectangle:\n",
    "* hint: you will need to use two nested for loops for that, \n",
    "* and an if that checks if its the last or first iteration of the loop \n",
    "* (so you will know what to print \"*\" or \" \")\n",
    "\n",
    "\"\"\"\n",
    "\n",
    "def printHollowRect() :\n",
    "\n",
    "    for i in range (1, 6) :          # for loop with i will create rows\n",
    "        for j in range (1,6) :       # for loop with j will print * and spaces\n",
    "            if i==1 or i==5 :        # while in the first and last iteration of the i loop just print *\n",
    "                print(\"*\", end=\"\")\n",
    "            \n",
    "            else:\n",
    "                if j == 1 or j == 5 :  # when we are in the first and last iteration of the j loop just print *\n",
    "                    print(\"*\", end = \"\")\n",
    "                else :\n",
    "                    print(\" \", end = \"\")           # when we are in the first and last  j loop just print *\n",
    "        print()\n",
    "                                          \n",
    "printHollowRect()"
   ]
  },
  {
   "cell_type": "code",
   "execution_count": 5,
   "metadata": {},
   "outputs": [
    {
     "name": "stdout",
     "output_type": "stream",
     "text": [
      "Enter a numer :-30\n",
      "-1\n"
     ]
    }
   ],
   "source": [
    "\"\"\" Question05_sign\n",
    "\n",
    "* Create a method called sign. \n",
    "* It gets a number and tells you if its positive, negative or zero.\n",
    "\n",
    "    for example :\n",
    "        sign(5)    =>  1\n",
    "        sign(-30)  => -1\n",
    "        sign(0)    =>  0\n",
    "\n",
    "    sign gets an int parameter.\n",
    "\n",
    "    print out 1, -1 or 0 depending on the input\n",
    "\n",
    "    the parameter should be entered by user\n",
    "\n",
    "\n",
    "\"\"\"\n",
    "number = int (input('Enter a numer :'))\n",
    "def sign():\n",
    "    if number < 0:\n",
    "        print ('-1')\n",
    "    elif number ==0:\n",
    "        print('0')\n",
    "    elif number >0:\n",
    "        print ('1')\n",
    "    \n",
    "sign()"
   ]
  },
  {
   "cell_type": "code",
   "execution_count": 6,
   "metadata": {},
   "outputs": [
    {
     "name": "stdout",
     "output_type": "stream",
     "text": [
      "Enter a number :1\n",
      "2  3  4\n"
     ]
    }
   ],
   "source": [
    "\"\"\" Question06_next3\n",
    "\n",
    "* Create a method called next3 . \n",
    "* This method gets an int argument and prints the next 3 numbers after that number. \n",
    "* Call the method from main method and pass num to it.\n",
    "\n",
    "    enter number\n",
    "    1\n",
    "    next 3 are:\n",
    "    2 3 4\n",
    "    (put a space between numbers)\n",
    "    \n",
    "\"\"\"\n",
    "number = int(input('Enter a number :'))\n",
    "def next3():\n",
    "    print(number+1, '', number+2, '', number+3)\n",
    "    \n",
    "next3()"
   ]
  },
  {
   "cell_type": "code",
   "execution_count": 7,
   "metadata": {},
   "outputs": [
    {
     "name": "stdout",
     "output_type": "stream",
     "text": [
      "Enter a number :1001\n",
      "true\n"
     ]
    }
   ],
   "source": [
    "\"\"\" Question07_isPalindrome\n",
    "\n",
    "* Complete a method isPalindrome() that will check if the number is a palindrome. \n",
    "* Print your result as a boolean (true or false).\n",
    "* Do not convert int into a string!\n",
    "    Example:\n",
    "        input: 1001\n",
    "        output: true\n",
    "\n",
    "    Example:\n",
    "        input: 1234\n",
    "        output: false\n",
    "\"\"\"\n",
    "\n",
    "def isPalindrome():\n",
    "    checkPalindrome = int(input('Enter a number :'))\n",
    "    number = checkPalindrome;\n",
    "    reverse = 0;\n",
    "    \n",
    "    while (number != 0):\n",
    "        remainder = number%10;\n",
    "        reverse = reverse*10  + remainder;\n",
    "        number = number // 10;\n",
    "    \n",
    "    if (reverse == checkPalindrome):\n",
    "        print('true')\n",
    "    else:\n",
    "        (print('false'))\n",
    "\n",
    "isPalindrome()"
   ]
  },
  {
   "cell_type": "code",
   "execution_count": 8,
   "metadata": {},
   "outputs": [
    {
     "name": "stdout",
     "output_type": "stream",
     "text": [
      "Enter a number :9\n",
      "9 th element of the fibonacci series is  21\n"
     ]
    }
   ],
   "source": [
    "\"\"\" Question08_Fibonacci\n",
    "\n",
    "* Complete a method fib() that will compute Fibonacci numbers\n",
    "* In fibonacci series, next number is the sum of previous two numbers \n",
    "* for example 0, 1, 1, 2, 3, 5, 8, 13, 21, 34, 55, 89, 144,……... \n",
    "* The first two numbers of fibonacci series are 0 and 1.\n",
    "\n",
    "* Given a number num, print n-th Fibonacci Number.\n",
    "\n",
    "    Input  : 2\n",
    "    Output : 1\n",
    "\n",
    "    Input  : 9\n",
    "    Output : 21\n",
    "\n",
    "\"\"\"\n",
    "def fib ():\n",
    "    \n",
    "    number = int(input('Enter a number :'))\n",
    "\n",
    "    num1 = 0;\n",
    "    num2 = 1;\n",
    "\n",
    "    for i in range (2,number):\n",
    "        sum = num1 + num2\n",
    "        num1 = num2\n",
    "        num2 = sum\n",
    "      \n",
    "    print(number, 'th element of the fibonacci series is ', num2)\n",
    "\n",
    "fib()"
   ]
  },
  {
   "cell_type": "code",
   "execution_count": 9,
   "metadata": {},
   "outputs": [
    {
     "name": "stdout",
     "output_type": "stream",
     "text": [
      "Enter first number     :11\n",
      "Enter second number    :5\n"
     ]
    },
    {
     "data": {
      "text/plain": [
       "5"
      ]
     },
     "execution_count": 9,
     "metadata": {},
     "output_type": "execute_result"
    }
   ],
   "source": [
    "\"\"\" Question09_max\n",
    "\n",
    "* Create a method called max. It gets two ints, x and max.\n",
    "* x is the test case, max is what we test against.\n",
    "* if x is bigger then max return max\n",
    "* in any other case return x.\n",
    "    for example:\n",
    "\n",
    "    max(1,10)\n",
    "        returns 1\n",
    "\n",
    "    max(11,5)\n",
    "        returns 5\n",
    "\"\"\"\n",
    "def max ():\n",
    "    x = int(input('Enter first number     :'))\n",
    "    max = int(input('Enter second number    :'))\n",
    "    if x>max :\n",
    "        return max\n",
    "    else:\n",
    "        return x\n",
    "max ()"
   ]
  },
  {
   "cell_type": "code",
   "execution_count": 10,
   "metadata": {},
   "outputs": [
    {
     "name": "stdout",
     "output_type": "stream",
     "text": [
      "Enter a number  : 8\n"
     ]
    },
    {
     "data": {
      "text/plain": [
       "True"
      ]
     },
     "execution_count": 10,
     "metadata": {},
     "output_type": "execute_result"
    }
   ],
   "source": [
    "\"\"\" Question10_isEven\n",
    "\n",
    "*isEven method gets a number(int) if its even (2,4,8...) returns true.\n",
    "*if its odd return false.\n",
    "\n",
    "    for example:\n",
    "\n",
    "        isEven(1) --> false\n",
    "\n",
    "        isEven(8) --> true\n",
    "\"\"\"\n",
    "def isEven():\n",
    "    number = int(input('Enter a number  : '))\n",
    "    if number % 2 == 0 :\n",
    "        return True\n",
    "    else:\n",
    "        return False\n",
    "        \n",
    "isEven()\n"
   ]
  },
  {
   "cell_type": "code",
   "execution_count": 11,
   "metadata": {},
   "outputs": [
    {
     "data": {
      "text/plain": [
       "'profit'"
      ]
     },
     "execution_count": 11,
     "metadata": {},
     "output_type": "execute_result"
    }
   ],
   "source": [
    "\"\"\" Question11_c_profit\n",
    "\n",
    "* c_profits gets the buyPrice(int) and sellPrice(int) and \n",
    "* determines if there was a profit or loss.\n",
    "* it returns a string value that can be \"profit\",\"loss\",\"no loss\"\n",
    "\n",
    "    for example:\n",
    "        c_profits(100,1500)\n",
    "        returns : \"profit\"\n",
    "\n",
    "        c_profits(20,5)\n",
    "        returns : \"loss\"\n",
    "\n",
    "        c_profits(100,100)\n",
    "        returns : \"no loss\"\n",
    "\n",
    "\"\"\"\n",
    "def c_profit():\n",
    "    buyPrice = 100\n",
    "    sellPrice = 1000\n",
    "    \n",
    "    if buyPrice > sellPrice:\n",
    "        return 'loss'\n",
    "    \n",
    "    elif buyPrice == sellPrice:\n",
    "        return 'no-loss'\n",
    "    \n",
    "    elif buyPrice < sellPrice:\n",
    "        return 'profit'\n",
    "\n",
    "c_profit()"
   ]
  },
  {
   "cell_type": "code",
   "execution_count": 12,
   "metadata": {},
   "outputs": [
    {
     "name": "stdout",
     "output_type": "stream",
     "text": [
      "Please enter the first boolean statement : True\n",
      "Please enter the second boolean statement : False\n"
     ]
    },
    {
     "data": {
      "text/plain": [
       "True"
      ]
     },
     "execution_count": 12,
     "metadata": {},
     "output_type": "execute_result"
    }
   ],
   "source": [
    "\"\"\" Question12_Hamlet\n",
    "\n",
    "*The danish prince most famous quote is \"to be or not to be\". \n",
    "*thats a classic example of boolean logic.\n",
    "*the hamletQuote method only returns true if one of or both of the boolean parameters is true.\n",
    "\n",
    "    example:\n",
    "\n",
    "    hamletQuote(true, false)\n",
    "        returns true\n",
    "\n",
    "    hamletQuote(false,true)\n",
    "        returns true\n",
    "\n",
    "    hamletQuote(true,true)\n",
    "        returns true\n",
    "\n",
    "    hamletQuote(false,false)\n",
    "        returns false\n",
    "\n",
    "\"\"\"\n",
    "\n",
    "def hamletQuote():\n",
    "    \n",
    "    b1 = bool(input(\"Please enter the first boolean statement : \"));\n",
    "\n",
    "    b2 = bool(input(\"Please enter the second boolean statement : \"));\n",
    "\n",
    "    return b1 or b2\n",
    "\n",
    "hamletQuote()"
   ]
  },
  {
   "cell_type": "code",
   "execution_count": 13,
   "metadata": {},
   "outputs": [
    {
     "name": "stdout",
     "output_type": "stream",
     "text": [
      "Enter the unit spent : 100\n"
     ]
    },
    {
     "data": {
      "text/plain": [
       "90.0"
      ]
     },
     "execution_count": 13,
     "metadata": {},
     "output_type": "execute_result"
    }
   ],
   "source": [
    "\"\"\" Question13_waterTax\n",
    "\n",
    "* This method calculates a water bill, the method gets a double and returns a double.\n",
    "* The more water you use the more it will cost you (as a fine for wasting water).\n",
    "\n",
    "        for example:\n",
    "\n",
    "            waterTax(50)\n",
    "                returns 30\n",
    "\n",
    "            waterTax(55)\n",
    "                returns 49.5\n",
    "\n",
    "            waterTax(101)\n",
    "                returns 140.9\n",
    "\n",
    "            waterTax(151)\n",
    "                returns 235.9\n",
    "\n",
    "the regular calculation under 50 is:\n",
    "                                bill = units * 0.60;\n",
    "                        above 50 is:\n",
    "                                bill = units * 0.90;\n",
    "\n",
    "above 100 the calculation is like above 50 but with a 50 as fine\n",
    "\n",
    "and above 150 it is the same as above 50 (units *0.90) but with a 100 fine added to the price.\n",
    "\n",
    "\"\"\"\n",
    "def waterTax():\n",
    "    units = int(input('Enter the unit spent : '))\n",
    "    if  units<=50:\n",
    "        bill = units * 0.60;\n",
    "            \n",
    "    elif (units>50 and units <=100):\n",
    "        bill = (units * 0.90);\n",
    "            \n",
    "    elif (units>100 and units <=150):\n",
    "        bill = units * 0.90 + 50;\n",
    "            \n",
    "    elif (units>150):\n",
    "        bill = units * 0.90 + 100;\n",
    "\n",
    "    return bill\n",
    "waterTax()"
   ]
  },
  {
   "cell_type": "code",
   "execution_count": 14,
   "metadata": {},
   "outputs": [
    {
     "name": "stdout",
     "output_type": "stream",
     "text": [
      "Please enter the first boolean statement : True\n",
      "Please enter the second boolean statement : True\n",
      "Please enter the second boolean statement : True\n"
     ]
    },
    {
     "data": {
      "text/plain": [
       "True"
      ]
     },
     "execution_count": 14,
     "metadata": {},
     "output_type": "execute_result"
    }
   ],
   "source": [
    "\"\"\" Question14_threeLocks\n",
    "\n",
    "* This one is about truth table logic, threeLocks gets 3 booleans and returns a boolean.\n",
    "* It returns true only if both a and b are true or c is true.\n",
    "\"\"\"\n",
    "\n",
    "def threeLocks():\n",
    "    \n",
    "    b1 = bool(input(\"Please enter the first boolean statement : \"));\n",
    "\n",
    "    b2 = bool(input(\"Please enter the second boolean statement : \"));\n",
    "    \n",
    "    b3 = bool(input(\"Please enter the second boolean statement : \"));\n",
    "\n",
    "    return ((b1 and b2) or b3)\n",
    "\n",
    "threeLocks()"
   ]
  },
  {
   "cell_type": "code",
   "execution_count": 15,
   "metadata": {},
   "outputs": [
    {
     "data": {
      "text/plain": [
       "False"
      ]
     },
     "execution_count": 15,
     "metadata": {},
     "output_type": "execute_result"
    }
   ],
   "source": [
    "\"\"\" Question15_validateTask\n",
    "\n",
    "* We have a to do list app, every time a user adds a task - a few things needed to be checked.\n",
    "* It should not be empty. boolean parameter needs to be true\n",
    "* taskId should be only 1 greater than currentID. \n",
    "* for example if we have 7 tasks(currentId is 7) \n",
    "* so the next task id is 8 , it can't be 10.\n",
    "    for example:\n",
    "\n",
    "        validateTask(true,2,1)\n",
    "        returns true\n",
    "\n",
    "        validateTask(true,3,1)\n",
    "        returns false\n",
    "\n",
    "        validateTask(false,3,2)\n",
    "        returns false\n",
    "\"\"\"\n",
    "def validateTask():\n",
    "    b1 = False\n",
    "    i1 = 3;\n",
    "    i2 = 2\n",
    "    \n",
    "    if ( b1  and (i1 == i2 + 1)):\n",
    "        return True;\n",
    "    else:\n",
    "        return False;\n",
    "    \n",
    "validateTask()"
   ]
  },
  {
   "cell_type": "code",
   "execution_count": 16,
   "metadata": {},
   "outputs": [
    {
     "name": "stdout",
     "output_type": "stream",
     "text": [
      "Reservation Confirmed? : \n"
     ]
    },
    {
     "data": {
      "text/plain": [
       "True"
      ]
     },
     "execution_count": 16,
     "metadata": {},
     "output_type": "execute_result"
    }
   ],
   "source": [
    "\"\"\" Question16_simpleRoomBook\n",
    "\n",
    "* To book a room first it needs to be available for rent and make sure its available at the date selected:\n",
    "* the room is already booked between 7/1/2018 - 7/8/2018 and not available accepting bookings only for year of 2018\n",
    "\n",
    "example:\n",
    "\n",
    "simpleRoomBook(false,2,1,2018)\n",
    "return false\n",
    "\n",
    "simpleRoomBook(true,2,1,2018)\n",
    "return true\n",
    "\n",
    "simpleRoomBook(true,7,2,2018)\n",
    "return false\n",
    "\n",
    "\"\"\"\n",
    "\n",
    "def simpleRoomBook(isAvailable, day, month, year):\n",
    "    \n",
    "    print(\"Reservation Confirmed? : \"); \n",
    "    \n",
    "    if isAvailable and year==2018:\n",
    "        \n",
    "        if month ==7 and day<=8 and day>=1:            \n",
    "            return False\n",
    "        \n",
    "        else:\n",
    "            return True\n",
    "        \n",
    "    else:\n",
    "        return False  \n",
    "    \n",
    "simpleRoomBook(True, 2, 1, 2018)"
   ]
  },
  {
   "cell_type": "code",
   "execution_count": 17,
   "metadata": {},
   "outputs": [
    {
     "name": "stdout",
     "output_type": "stream",
     "text": [
      "Is there any drink available / '1' for True / '0' for False :0\n",
      "Is there any coupon available / '1' for True / '0' for False :0\n",
      "Enter the ingredient-1 amount : 1\n",
      "Enter the ingredient-2 amount : 2\n",
      "Enter the ingredient-3 amount : 3\n",
      "True\n"
     ]
    }
   ],
   "source": [
    "\"\"\" Question17_getThunderBlazz\n",
    "* There are a few ways to get this galacticaly popular drink if it is available at the store you can buy it. \n",
    "* or you can get it as a gift.\n",
    "* the third option is to mix its ingredients (its a secret formula):\n",
    "    1 from ingredient1,\n",
    "    2 from ingredient2 and \n",
    "    3 from ingredient3.\n",
    "* or the alternate recipe: \n",
    "    3 from ingredient1, \n",
    "    1 from ingredient2 and \n",
    "    2 from ingredient3.\n",
    "* this ain't coca-cola...\n",
    "* You need to have exact amount of ingredients for making the drink. not less or more\n",
    "\n",
    "* getThunderBlazz(boolean avilable, boolean gift, int ingredient1 , int ingredient2, int ingredient3)\n",
    "\n",
    "    available = available at store\n",
    "    gift = got it as a gift\n",
    "        both are booleans.\n",
    "\n",
    "    then there are the three ingredients as ints\n",
    "\n",
    "example use:\n",
    "\n",
    "getThunderBlazz(true,false,1,2,3)\n",
    "returns true\n",
    "\n",
    "getThunderBlazz(false,false,1,2,3)\n",
    "returns true\n",
    "\n",
    "getThunderBlazz(false,false,1,5,3)\n",
    "returns false\n",
    "\n",
    "getThunderBlazz(false,false,3,1,2)\n",
    "returns true\n",
    "\n",
    "getThunderBlazz(false,false,3,1,1)\n",
    "returns false\n",
    "\n",
    "getThunderBlazz(false,true,9,7,3)\n",
    "returns true\n",
    "\n",
    "\n",
    "hint: use parenthesis to separate logical arguments:\n",
    "\n",
    "(true|| false && true)||(false&&TRUE) etc\n",
    "\n",
    "or put them in their own variables, everything to make it easy to read.\n",
    "\n",
    "\"\"\"\n",
    "\n",
    "def getThunderBlazz(availability, gift, ing1, ing2, ing3):\n",
    "    \n",
    "    if availability or gift or ((ing1==1 and ing2==2 and ing3==3) or (ing1==3 and ing2==1 and ing3==2)):          \n",
    "        return True\n",
    "    \n",
    "    else:\n",
    "        return False  \n",
    "    \n",
    "availability = int(input(\"Is there any drink available / '1' for True / '0' for False :\")) \n",
    "gift = int(input(\"Is there any coupon available / '1' for True / '0' for False :\"))     \n",
    "ing1 = int(input(\"Enter the ingredient-1 amount : \"))\n",
    "ing2 = int(input(\"Enter the ingredient-2 amount : \"))\n",
    "ing3 = int(input(\"Enter the ingredient-3 amount : \")) \n",
    "\n",
    "print(getThunderBlazz(availability, gift, ing1, ing2, ing3))"
   ]
  }
 ],
 "metadata": {
  "kernelspec": {
   "display_name": "Python 3",
   "language": "python",
   "name": "python3"
  },
  "language_info": {
   "codemirror_mode": {
    "name": "ipython",
    "version": 3
   },
   "file_extension": ".py",
   "mimetype": "text/x-python",
   "name": "python",
   "nbconvert_exporter": "python",
   "pygments_lexer": "ipython3",
   "version": "3.7.3"
  }
 },
 "nbformat": 4,
 "nbformat_minor": 2
}
