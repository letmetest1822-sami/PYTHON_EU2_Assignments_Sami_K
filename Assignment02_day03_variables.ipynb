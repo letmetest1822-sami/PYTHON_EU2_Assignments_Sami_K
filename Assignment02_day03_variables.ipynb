{
 "cells": [
  {
   "cell_type": "code",
   "execution_count": 1,
   "metadata": {},
   "outputs": [
    {
     "name": "stdout",
     "output_type": "stream",
     "text": [
      "The declared variable is : 5\n"
     ]
    }
   ],
   "source": [
    "'''Question 01 \n",
    "Declare and initialize an integer variable called count, \n",
    "and write a statement that displays the value of count on the console\n",
    "'''\n",
    "\n",
    "\n",
    "i1 = 5;\n",
    "print('The declared variable is : {}'.format(i1));"
   ]
  },
  {
   "cell_type": "code",
   "execution_count": 2,
   "metadata": {},
   "outputs": [
    {
     "name": "stdout",
     "output_type": "stream",
     "text": [
      "This is a statement !\n"
     ]
    }
   ],
   "source": [
    "'''Question 02 \n",
    "Declare and initialize a String variable called message, \n",
    "and write a statement to display its value to console.\n",
    "'''\n",
    "\n",
    "\n",
    "message = 'This is a statement !';\n",
    "print(message);"
   ]
  },
  {
   "cell_type": "code",
   "execution_count": 3,
   "metadata": {},
   "outputs": [
    {
     "name": "stdout",
     "output_type": "stream",
     "text": [
      "The number is : 8 The cost is : 10.5\n"
     ]
    }
   ],
   "source": [
    "'''Question 03\n",
    "* Declare two variables. One of them integer called num \n",
    "* and the other one is double called cost. \n",
    "* Print both values \n",
    "* (num first, then cost),\n",
    "* separated by a space on a single line.\n",
    "'''\n",
    "\n",
    "\n",
    "num = 8;\n",
    "cost = 10.5;\n",
    "print(\"The number is : {} The cost is : {}\".format(num,cost))"
   ]
  },
  {
   "cell_type": "code",
   "execution_count": 4,
   "metadata": {},
   "outputs": [
    {
     "name": "stdout",
     "output_type": "stream",
     "text": [
      "Today's Word-Of-The-Day is : Python\n"
     ]
    }
   ],
   "source": [
    "'''Question 04 \n",
    "Assume that word is a String variable and already has a value.\n",
    "Write a statement to display the message \"Today's Word-Of-The-Day is: \" \n",
    "followed by the value of the word.\n",
    "The message and the value of word should appear together, on a single line.\n",
    "\n",
    "Ex:\n",
    "\n",
    "Today's Word-Of-The-Day is: Java \n",
    "'''\n",
    "\n",
    "\n",
    "word = 'Python';\n",
    "print(\"Today's Word-Of-The-Day is : {}\".format(word))\n"
   ]
  },
  {
   "cell_type": "code",
   "execution_count": 5,
   "metadata": {},
   "outputs": [
    {
     "name": "stdout",
     "output_type": "stream",
     "text": [
      "first is 44 second = 234\n"
     ]
    }
   ],
   "source": [
    "'''Question 05\n",
    "Declare and initialize two variables called first and second. \n",
    "* Write a single statement that will print the message \n",
    "* \"first is \" followed by the value of first, and then space, \n",
    "* followed by \"second = \", followed by the value of the second.\n",
    "Ex:\n",
    "first is 55 second = 123\n",
    "'''\n",
    "\n",
    "\n",
    "first = 44;\n",
    "second = 234;\n",
    "print(\"first is {} second = {}\".format(first, second));"
   ]
  },
  {
   "cell_type": "code",
   "execution_count": 6,
   "metadata": {},
   "outputs": [
    {
     "name": "stdout",
     "output_type": "stream",
     "text": [
      "Bob, Jill, Betty, Herb, James\n"
     ]
    }
   ],
   "source": [
    "'''Question 06 \n",
    "-James doesn't want to sit next to Jill\n",
    "-Betty and Herb are dating and want to sit next to each other\n",
    "-Bob wants to sit on a left side aisle\n",
    "-James wants to sit on the aisle\n",
    "\n",
    "Provide a seating order that conforms to the above rules.\n",
    "Specify the seating order as the names separated by commas and space (as in the above example).\n",
    "Use variables and print names in the right order.\n",
    "'''\n",
    "\n",
    "\n",
    "s1 = \"James\";\n",
    "s2 = \"Betty\";\n",
    "s3 = \"Herb\";\n",
    "s4 = \"Bob\";\n",
    "s5 = \"Jill\";\n",
    "\n",
    "print(s4 + \", \" + s5 + \", \" +  s2 + \", \" + s3 + \", \"  +  s1);"
   ]
  },
  {
   "cell_type": "code",
   "execution_count": 7,
   "metadata": {},
   "outputs": [
    {
     "name": "stdout",
     "output_type": "stream",
     "text": [
      "i= 3  f=  22.4 \n"
     ]
    }
   ],
   "source": [
    "'''Question 07\n",
    "* Declare and initialize an integer variable i and a floating-point variable f.  \n",
    "* Write a statement that writes both of their values to console in the following format:\n",
    "*  i = value-of-i    f=value-of-f\n",
    "*  i = 9 and         f = 33.4\n",
    "*  The output should be:\n",
    "*  i=9 f=33.4 \n",
    "'''\n",
    "\n",
    "\n",
    "i = 3;\n",
    "f = 22.4;\n",
    "print(\"i= {}  f=  {} \".format(i,f))"
   ]
  },
  {
   "cell_type": "code",
   "execution_count": 8,
   "metadata": {},
   "outputs": [
    {
     "name": "stdout",
     "output_type": "stream",
     "text": [
      "I will learn 'Python' and 'Java' at CybertekSchool.\n"
     ]
    }
   ],
   "source": [
    "'''Question 08\n",
    "* Declare and assign 2 String variables.\n",
    "* They will hold different programming language names.\n",
    "* Using those variables print the message exactly like below.\n",
    "* lan1 = \"Python\" and lan2 = \"Java\"\n",
    "* print exactly:\n",
    "* I will learn \"Python\" and \"Java\" at CybertekSchool.\n",
    "'''\n",
    "\n",
    "language1 = \"Python\";\n",
    "language2 = \"Java\";\n",
    "\n",
    "print(\"I will learn '{}' and '{}' at CybertekSchool.\".format(language1, language2));\n"
   ]
  },
  {
   "cell_type": "code",
   "execution_count": 9,
   "metadata": {},
   "outputs": [
    {
     "name": "stdout",
     "output_type": "stream",
     "text": [
      "100 5000 1000000 343445566955555\n"
     ]
    }
   ],
   "source": [
    "'''Question 09\n",
    "* Declare a byte variable named steps and assign 100\n",
    "* Declare a short variable named miles and assign 5000\n",
    "* Declare an int variable named count and assign 1000000\n",
    "* Declare a long variable named population and assign 3434455667\n",
    "'''\n",
    "\n",
    "steps = 100;\n",
    "miles = 5000;\n",
    "count = 1000000;\n",
    "population = 343445566955555;\n",
    "\n",
    "print (steps, miles, count, population)"
   ]
  },
  {
   "cell_type": "code",
   "execution_count": 10,
   "metadata": {},
   "outputs": [
    {
     "name": "stdout",
     "output_type": "stream",
     "text": [
      "14:22:45  AM \n"
     ]
    }
   ],
   "source": [
    "'''Question 10\n",
    "*In this assignment, you will write code to put together the time of day.\n",
    "* Like this: 12:24:33 PM\n",
    "* 1. Declare variables: hour, minute, second that can hold int values.\n",
    "* Declare amOrPm variable that can hold a String (\"AM\" or \"PM\")\n",
    "* 2. An instructor will set different values to your variables\n",
    "* 3. Using the variables and concatenation,\n",
    "* print values in the format mentioned above.\n",
    "'''\n",
    "\n",
    "hour = 14; minute = 22; second = 45;\n",
    "dayPart1 = \" AM\"; dayPart2 = \" PM\";\n",
    "\n",
    "print(\"{}:{}:{} {} \".format(hour, minute, second, dayPart1));"
   ]
  }
 ],
 "metadata": {
  "kernelspec": {
   "display_name": "Python 3",
   "language": "python",
   "name": "python3"
  },
  "language_info": {
   "codemirror_mode": {
    "name": "ipython",
    "version": 3
   },
   "file_extension": ".py",
   "mimetype": "text/x-python",
   "name": "python",
   "nbconvert_exporter": "python",
   "pygments_lexer": "ipython3",
   "version": "3.7.3"
  }
 },
 "nbformat": 4,
 "nbformat_minor": 2
}
