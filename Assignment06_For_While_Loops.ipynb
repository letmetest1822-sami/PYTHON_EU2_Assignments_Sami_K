{
 "cells": [
  {
   "cell_type": "code",
   "execution_count": 1,
   "metadata": {},
   "outputs": [
    {
     "name": "stdout",
     "output_type": "stream",
     "text": [
      "12 x 1 =  12\n",
      "12 x 2 =  24\n",
      "12 x 3 =  36\n",
      "12 x 4 =  48\n",
      "12 x 5 =  60\n",
      "12 x 6 =  72\n",
      "12 x 7 =  84\n",
      "12 x 8 =  96\n",
      "12 x 9 =  108\n",
      "12 x 10 =  120\n"
     ]
    }
   ],
   "source": [
    "\"\"\" Question01_tableOf12                                                                            copyRight samiK. :)\n",
    "\n",
    "Print the table of 12 using for loop.\n",
    "Output should be in following format:\n",
    "            12 X  1 =  12\n",
    "            12 X  2 =  24\n",
    "            12 X  3 =  36\n",
    "            12 X  4 =  48\n",
    "            12 X  5 =  60\n",
    "            12 X  6 =  72\n",
    "            12 X  7 =  84\n",
    "            12 X  8 =  96\n",
    "            12 X  9 = 108\n",
    "            12 X 10 = 120\n",
    "\n",
    "\"\"\"\n",
    "for i in range (1,11) :\n",
    "\n",
    "    j = i*12;\n",
    "    \n",
    "    print('12 x {} =  {}'.format (i, j))"
   ]
  },
  {
   "cell_type": "code",
   "execution_count": 2,
   "metadata": {},
   "outputs": [
    {
     "name": "stdout",
     "output_type": "stream",
     "text": [
      "Enter a number to indicate the number of terms in Fibonacci Series :8\n",
      " 0 , 1 , 1 , 2 , 3 , 5 , 8 , 13 "
     ]
    }
   ],
   "source": [
    "\"\"\" Question02_fibonacciSeries\n",
    "\n",
    "* Write a program to print Fibonacci series of n terms \n",
    "* where n is declared by user :  \n",
    "0, 1, 1, 2, 3, 5, 8, 13, 21, 34,......\n",
    "\n",
    "\"\"\"\n",
    "numberOfTerms = int(input ('Enter a number to indicate the number of terms in Fibonacci Series :'))\n",
    "\n",
    "term1 = 0; \n",
    "term2 = 1;\n",
    "j=0;\n",
    "\n",
    "for i in range (1, numberOfTerms+1):\n",
    "    j+=1\n",
    "    if (j == numberOfTerms):\n",
    "        print(\" {} \".format(term1),  end=\"\")\n",
    "    else:\n",
    "        print(\" {} ,\".format(term1),  end=\"\")\n",
    "    \n",
    "    sumOf2Terms = term1 + term2\n",
    "    term1 = term2\n",
    "    term2 = sumOf2Terms"
   ]
  },
  {
   "cell_type": "code",
   "execution_count": 3,
   "metadata": {},
   "outputs": [
    {
     "name": "stdout",
     "output_type": "stream",
     "text": [
      "5 , 10 , 15 , 20 , 25 , 30 , 35 , 40 , 45 , 50 , 55 , 60 , 65 , 70 , 75 , 80 , 85 , 90 , 95 , 100\n"
     ]
    }
   ],
   "source": [
    "\"\"\" Question03_divisibleBy5\n",
    "\n",
    "* Write a Java program to print all the numbers between 1 and 100 \n",
    "* (including 1 and 100) which are divisible by 5.\n",
    "\n",
    "\n",
    "\"\"\"\n",
    "\n",
    "for i in range (1,101):\n",
    "    if (i % 5 == 0):\n",
    "        if(i==100):\n",
    "            print(i );\n",
    "        else: \n",
    "            print(i, \", \", end = \"\")"
   ]
  },
  {
   "cell_type": "code",
   "execution_count": 4,
   "metadata": {},
   "outputs": [
    {
     "name": "stdout",
     "output_type": "stream",
     "text": [
      "Please enter the upper bound: 5\n",
      "1  + 2  + 3  + 4  + 5  =  10"
     ]
    }
   ],
   "source": [
    "\"\"\" Question04_sumOfNumbers \n",
    "\n",
    "Write a program to calculate the sum of the numbers from 1 till upper bound.\n",
    "    If upper bound is 5, sum should be 1 + 2 + 3 + 4 + 5 = 15.\n",
    "    If upper bound is 11, sum should be 1 + 2 + ... + 11 = 66.\n",
    "    If upper bound is 100, sum should be 1 + 2 + ... + 100 = 5050.\n",
    "\n",
    "Use a while loop.\n",
    "\n",
    "\"\"\"\n",
    "upperBound = int(input(\"Please enter the upper bound: \"))\n",
    "\n",
    "sum = 0;\n",
    "i=1;\n",
    "\n",
    "while i< upperBound:\n",
    "    \n",
    "    sum+=i\n",
    "    print (i, \" + \",  end=\"\")\n",
    "    i+=1\n",
    "    \n",
    "else : \n",
    "    print (i, \" = \", sum,  end=\"\")\n",
    "    "
   ]
  },
  {
   "cell_type": "code",
   "execution_count": 5,
   "metadata": {},
   "outputs": [
    {
     "name": "stdout",
     "output_type": "stream",
     "text": [
      "Enter a number to creat odd numbers series :11\n",
      "1,  3,  5,  7,  9,  11"
     ]
    }
   ],
   "source": [
    "\"\"\" Question05_oddNumbers\n",
    "\n",
    "* Write a program for the following logic:\n",
    "* Print all the odd numbers in comma-separated form from 1 till the end (you may change it):\n",
    "    if end = 10, OUTPUT = 1, 3, 5, 7, 9\n",
    "    if end = 11, OUTPUT = 1, 3, 5, 7, 9, 11\n",
    "\n",
    "* Use while loop and if-else statements.\n",
    "* Note that, there should not be any comma after the last digit.\n",
    "\n",
    "\n",
    "\"\"\"\n",
    "\n",
    "endNumber = int (input ('Enter a number to creat odd numbers series :'))\n",
    "i = 2;\n",
    "print ('1', end = \"\")\n",
    "\n",
    "while i< endNumber+1:\n",
    "    if i % 2 !=0:\n",
    "        print (', ', i, end = \"\")\n",
    "    i+=1;\n"
   ]
  },
  {
   "cell_type": "code",
   "execution_count": 6,
   "metadata": {},
   "outputs": [
    {
     "name": "stdout",
     "output_type": "stream",
     "text": [
      "\n",
      "1\n",
      "22\n",
      "333\n",
      "4444\n",
      "55555\n",
      "666666\n",
      "7777777"
     ]
    }
   ],
   "source": [
    "\"\"\" Question06_numberPyramid\n",
    "\n",
    "Print following output using nested for loops:\n",
    "    1\n",
    "    22\n",
    "    333\n",
    "    4444\n",
    "    55555\n",
    "    666666\n",
    "    7777777\n",
    "\n",
    "\"\"\"\n",
    "for i in range(1,8):\n",
    "    print('')\n",
    "    for j in range (0,i):\n",
    "        print (i, end=\"\")"
   ]
  },
  {
   "cell_type": "code",
   "execution_count": 7,
   "metadata": {},
   "outputs": [
    {
     "name": "stdout",
     "output_type": "stream",
     "text": [
      "4   3   2   1   \n",
      "  3   2   1   \n",
      "    2   1   \n",
      "      1   \n"
     ]
    }
   ],
   "source": [
    "\"\"\" Question07_PyramidCentered\n",
    "*Print the following output using nested for loops.\n",
    "\n",
    "4       3       2      1\n",
    "\n",
    "     3       2      1\n",
    "\n",
    "         2       1\n",
    "\n",
    "             1\n",
    "\n",
    "\n",
    "\"\"\"\n",
    "\n",
    "for i in range(4,0,-1):\n",
    "    \n",
    "    for j in range(1,4-i+1):\n",
    "        print(\"  \", end=\"\")\n",
    "        \n",
    "    for k in range(i,0,-1):\n",
    "        print(str(k), \"  \", end=\"\")\n",
    "        \n",
    "    print(\"\")\n"
   ]
  },
  {
   "cell_type": "code",
   "execution_count": 8,
   "metadata": {},
   "outputs": [
    {
     "name": "stdout",
     "output_type": "stream",
     "text": [
      "\n",
      "1 \t2 \t3 \t4 \t5 \t6 \t7 \t8 \t9 \t10 \t\n",
      "2 \t4 \t6 \t8 \t10 \t12 \t14 \t16 \t18 \t20 \t\n",
      "3 \t6 \t9 \t12 \t15 \t18 \t21 \t24 \t27 \t30 \t\n",
      "4 \t8 \t12 \t16 \t20 \t24 \t28 \t32 \t36 \t40 \t\n",
      "5 \t10 \t15 \t20 \t25 \t30 \t35 \t40 \t45 \t50 \t\n",
      "6 \t12 \t18 \t24 \t30 \t36 \t42 \t48 \t54 \t60 \t\n",
      "7 \t14 \t21 \t28 \t35 \t42 \t49 \t56 \t63 \t70 \t\n",
      "8 \t16 \t24 \t32 \t40 \t48 \t56 \t64 \t72 \t80 \t\n",
      "9 \t18 \t27 \t36 \t45 \t54 \t63 \t72 \t81 \t90 \t\n",
      "10 \t20 \t30 \t40 \t50 \t60 \t70 \t80 \t90 \t100 \t"
     ]
    }
   ],
   "source": [
    "\"\"\" Question08_numberRows\n",
    "\n",
    "*Print following output using nested for loops.\n",
    "\n",
    "    1 \t 2 \t 3 \t 4 \t 5 \t 6 \t 7 \t 8 \t 9 \t 10\n",
    "    2 \t 4 \t 6 \t 8 \t10 \t12 \t14 \t16 \t18 \t 20\n",
    "    3\t 6 \t 9 \t12 \t15 \t18 \t21 \t24 \t27 \t 30\n",
    "    4 \t 8 \t12 \t16 \t20 \t24 \t28 \t32 \t36 \t 40\n",
    "    5 \t10 \t15 \t20 \t25 \t30 \t35 \t40 \t45 \t 50\n",
    "    6 \t12 \t18 \t24 \t30 \t36 \t42 \t48 \t54 \t 60\n",
    "    7 \t14 \t21 \t28 \t35 \t42 \t49 \t56 \t63 \t 70\n",
    "    8 \t16 \t24 \t32 \t40 \t48 \t56 \t64 \t72 \t 80\n",
    "    9 \t18 \t27 \t36 \t45 \t54 \t63 \t72 \t81 \t 90\n",
    "    10 \t20 \t30 \t40 \t50 \t60 \t70 \t80 \t90 \t100\n",
    "\n",
    "        NOTE:\n",
    "        1. 1st row is table of 1, 2nd row is table of 2 and so on.\n",
    "        2. You can use space between the digits on the same row.  \n",
    "\n",
    "\n",
    "\"\"\"\n",
    "for i in range (1,11):\n",
    "    print(\"\")\n",
    "    for j in range (1,11):\n",
    "        print (i*j, \"\\t\", end = \"\")"
   ]
  },
  {
   "cell_type": "code",
   "execution_count": 9,
   "metadata": {},
   "outputs": [
    {
     "name": "stdout",
     "output_type": "stream",
     "text": [
      "W  B  W  B  W  B  W  B  \n",
      "B  W  B  W  B  W  B  W  \n",
      "W  B  W  B  W  B  W  B  \n",
      "B  W  B  W  B  W  B  W  \n",
      "W  B  W  B  W  B  W  B  \n",
      "B  W  B  W  B  W  B  W  \n",
      "W  B  W  B  W  B  W  B  \n",
      "B  W  B  W  B  W  B  W  \n"
     ]
    }
   ],
   "source": [
    "\"\"\" Question09_chessBoard\n",
    "\n",
    "* Print following chessboard using nested for loops.\n",
    "    W B W B W B W B\n",
    "    B W B W B W B W\n",
    "    W B W B W B W B\n",
    "    B W B W B W B W\n",
    "    W B W B W B W B\n",
    "    B W B W B W B W\n",
    "    W B W B W B W B\n",
    "    B W B W B W B W\n",
    "\n",
    "        NOTE:\n",
    "    1. Total 8 rows and 8 columns.\n",
    "    2. \"W\" and \"B\" are in alternate positions (row-wise or column-wise), \n",
    "you will not find consecutive W or B.\n",
    "\n",
    "\n",
    "\n",
    "\"\"\"\n",
    "for i in range (1,9):\n",
    "    for j in range (1,9):\n",
    "        if (i%2 == 1) ^ (j%2==0):\n",
    "            print ('W', ' ', end = \"\")\n",
    "        else:\n",
    "             print ('B', ' ', end = \"\")\n",
    "    print(\"\")"
   ]
  },
  {
   "cell_type": "code",
   "execution_count": 10,
   "metadata": {},
   "outputs": [
    {
     "name": "stdout",
     "output_type": "stream",
     "text": [
      "##\n",
      "# #\n",
      "#  #\n",
      "#   #\n",
      "#    #\n",
      "#     #\n",
      "#      #\n"
     ]
    }
   ],
   "source": [
    "\"\"\" Question10_drawPattern\n",
    "\n",
    "*Write nested loop to draw this pattern\n",
    "\n",
    "    ##\n",
    "    # #\n",
    "    #   #\n",
    "    #    #\n",
    "    #     #\n",
    "    #      #\n",
    "    #       #\n",
    "\n",
    "\n",
    "\"\"\"\n",
    "for i in range (1,8):\n",
    "    print ('#', end = \"\")\n",
    "    for j in range (1,i):\n",
    "        print (' ', end = \"\")\n",
    "    print ( '#')\n",
    "        "
   ]
  }
 ],
 "metadata": {
  "kernelspec": {
   "display_name": "Python 3",
   "language": "python",
   "name": "python3"
  },
  "language_info": {
   "codemirror_mode": {
    "name": "ipython",
    "version": 3
   },
   "file_extension": ".py",
   "mimetype": "text/x-python",
   "name": "python",
   "nbconvert_exporter": "python",
   "pygments_lexer": "ipython3",
   "version": "3.7.3"
  }
 },
 "nbformat": 4,
 "nbformat_minor": 2
}
