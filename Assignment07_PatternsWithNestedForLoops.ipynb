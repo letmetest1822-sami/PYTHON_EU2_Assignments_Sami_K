{
 "cells": [
  {
   "cell_type": "code",
   "execution_count": 1,
   "metadata": {},
   "outputs": [
    {
     "name": "stdout",
     "output_type": "stream",
     "text": [
      "\n",
      " 1\n",
      " 1 2\n",
      " 1 2 3\n",
      " 1 2 3 4\n",
      " 1 2 3 4 5\n",
      " 1 2 3 4 5 6\n",
      " 1 2 3 4 5 6 7\n",
      " 1 2 3 4 5 6\n",
      " 1 2 3 4 5\n",
      " 1 2 3 4\n",
      " 1 2 3\n",
      " 1 2\n",
      " 1\n"
     ]
    }
   ],
   "source": [
    "\"\"\" Question01_rightHalfDiamond\n",
    "\n",
    "Write a Java program to print the following pattern\n",
    "\n",
    "    1\n",
    "    1 2\n",
    "    1 2 3\n",
    "    1 2 3 4\n",
    "    1 2 3 4 5\n",
    "    1 2 3 4 5 6\n",
    "    1 2 3 4 5 6 7\n",
    "    1 2 3 4 5 6\n",
    "    1 2 3 4 5\n",
    "    1 2 3 4\n",
    "    1 2 3\n",
    "    1 2\n",
    "    1\n",
    "\"\"\"\n",
    "\n",
    "#Begin to form the Upper half\n",
    "max = 7\n",
    "\n",
    "for  i in range (1,max+2):          # use i to form the rows. It will also limit j\n",
    "    for j in range ( 1,i) :     # Use j to print the numbers. All rows will start with 1\n",
    "        print(\"\", j, end=\"\")\n",
    "    print(\"\")   # go to next line after printing the whole row\n",
    "\n",
    "#Form the Lower half which is one row missing. \n",
    "\n",
    "for i in range (max, 1, -1) :    # again use i to keep forming the rows. Start form -2 because lower part is one row missing. i will again limit j\n",
    "    for  j in range (1,i):    # Keep Using j to print numbers. All rows will again start with 1\n",
    "        print(\"\", j, end=\"\")\n",
    "    print(\"\")"
   ]
  },
  {
   "cell_type": "code",
   "execution_count": 2,
   "metadata": {},
   "outputs": [
    {
     "name": "stdout",
     "output_type": "stream",
     "text": [
      " 1 2 3 4 5 6 7\n",
      " 1 2 3 4 5 6\n",
      " 1 2 3 4 5\n",
      " 1 2 3 4\n",
      " 1 2 3\n",
      " 1 2\n",
      " 1\n",
      " 1 2\n",
      " 1 2 3\n",
      " 1 2 3 4\n",
      " 1 2 3 4 5\n",
      " 1 2 3 4 5 6\n",
      " 1 2 3 4 5 6 7\n"
     ]
    }
   ],
   "source": [
    "\"\"\"  Question02_NumberPattern\n",
    "\n",
    "* Write a Java program to print the following pattern\n",
    "\n",
    "    1 2 3 4 5 6 7\n",
    "    1 2 3 4 5 6\n",
    "    1 2 3 4 5\n",
    "    1 2 3 4\n",
    "    1 2 3\n",
    "    1 2\n",
    "    1\n",
    "    1 2\n",
    "    1 2 3\n",
    "    1 2 3 4\n",
    "    1 2 3 4 5\n",
    "    1 2 3 4 5 6\n",
    "    1 2 3 4 5 6 7\n",
    "\n",
    "\"\"\"\n",
    "max = 7;\n",
    "\n",
    "for i in range (max+1,1,-1):\n",
    "    for j in range (1,i):\n",
    "        print (\"\", j, end=\"\")\n",
    "    print()\n",
    "\n",
    "for i in range (3,max+2):\n",
    "    for j in range (1,i):\n",
    "        print (\"\", j, end=\"\")\n",
    "    print()"
   ]
  },
  {
   "cell_type": "code",
   "execution_count": 3,
   "metadata": {},
   "outputs": [
    {
     "name": "stdout",
     "output_type": "stream",
     "text": [
      "1 2 3 4 5 6 7 \n",
      " 2 3 4 5 6 7 \n",
      "  3 4 5 6 7 \n",
      "   4 5 6 7 \n",
      "    5 6 7 \n",
      "     6 7 \n",
      "      7 \n",
      "     6 7 \n",
      "    5 6 7 \n",
      "   4 5 6 7 \n",
      "  3 4 5 6 7 \n",
      " 2 3 4 5 6 7 \n",
      "1 2 3 4 5 6 7 \n"
     ]
    }
   ],
   "source": [
    "\"\"\" Question03_NumberSandWatch\n",
    "\n",
    "*Write a Java program to print the following pattern\n",
    "\n",
    "    1 2 3 4 5 6 7\n",
    "     2 3 4 5 6 7\n",
    "      3 4 5 6 7\n",
    "       4 5 6 7\n",
    "        5 6 7\n",
    "         6 7\n",
    "          7\n",
    "         6 7\n",
    "        5 6 7\n",
    "       4 5 6 7\n",
    "     3 4 5 6 7\n",
    "    2 3 4 5 6 7\n",
    "   1 2 3 4 5 6 7\n",
    "   \n",
    "\"\"\"\n",
    "\n",
    "# to form the Upper half\n",
    "max = 7;     \n",
    "\n",
    "for i in range (1, max+1):       # use i to form the rows\n",
    "    for j in range (1, i) :     #Use j to form columns. Create j times spaces before numbers\n",
    "        print(\" \", end=\"\")      # Print j times spaces before numbers. \n",
    "                    # j is working for both spaces and numbers\n",
    "    for j in range (i, max+1):  # Start creating numbers\n",
    "                            #j will keep incrementing from the value it stopped after printing the last space, \n",
    "                              # but now it will print the numbers\n",
    "        print(j, \"\", end=\"\"); \t #Start Printing numbers and spaces next to it.\n",
    "    print()      #go to next line\n",
    "         \n",
    "         \n",
    "        #Start forming the Lower half\n",
    "         \n",
    "for i in range (max-1, 0, -1):    # same logic and variable working reverse starting from 6\n",
    "    for j in range (1, i):     #Print j times spaces before numbers\n",
    "        print(\" \", end=\"\")\n",
    "    for j in range (i, max+1):    #Print numbers\n",
    "        print(j, \"\", end=\"\")\n",
    "    print()# go to next line"
   ]
  },
  {
   "cell_type": "code",
   "execution_count": 4,
   "metadata": {},
   "outputs": [
    {
     "name": "stdout",
     "output_type": "stream",
     "text": [
      "\n",
      "1\n",
      "10\n",
      "101\n",
      "1010\n",
      "10101\n",
      "101010\n",
      "1010101\n"
     ]
    }
   ],
   "source": [
    "\"\"\" Question04_OneZeroTriangle\n",
    "\n",
    "Write a Java program to print the following pattern\n",
    "\n",
    "    1\n",
    "    10\n",
    "    101\n",
    "    1010\n",
    "    10101\n",
    "    101010\n",
    "    1010101\n",
    "\n",
    "\"\"\"\n",
    "max = 7\n",
    "\n",
    "for i in range (1,max+2):\n",
    "    for j in range (1,i):\n",
    "        \n",
    "        if j%2==1:\n",
    "            print (\"1\", end =\"\")\n",
    "            \n",
    "        else :\n",
    "            print(\"0\", end=\"\")\n",
    "            \n",
    "    print()"
   ]
  },
  {
   "cell_type": "code",
   "execution_count": 5,
   "metadata": {},
   "outputs": [
    {
     "name": "stdout",
     "output_type": "stream",
     "text": [
      "111111\n",
      "111112\n",
      "111133\n",
      "111444\n",
      "115555\n",
      "166666\n",
      "777777\n"
     ]
    }
   ],
   "source": [
    "\"\"\" Question05_OneSevenReverse\n",
    "\n",
    "Write a Java program to print the following pattern\n",
    "\n",
    "    1111111\n",
    "    1111122\n",
    "    1111333\n",
    "    1114444\n",
    "    1155555\n",
    "    1666666\n",
    "    7777777\n",
    "\"\"\"\n",
    "max = 7\n",
    "\n",
    "for i in range (1, max+1):\n",
    "    for j in range (max, i,-1):\n",
    "        print (\"1\", end=\"\")\n",
    "        \n",
    "    for j in range(1, i):\n",
    "        print(i, end=\"\")\n",
    "        \n",
    "    print()"
   ]
  },
  {
   "cell_type": "code",
   "execution_count": 8,
   "metadata": {},
   "outputs": [
    {
     "name": "stdout",
     "output_type": "stream",
     "text": [
      "1 \n",
      "2 6 \n",
      "3 7 10 \n",
      "4 8 11 13 \n",
      "5 9 12 14 15 \n"
     ]
    }
   ],
   "source": [
    "\"\"\" Question06_OneFifteen\n",
    "\n",
    "* Write a Java program to print the following pattern\n",
    "\n",
    "    1\n",
    "    2 6\n",
    "    3 7 10\n",
    "    4 8 11 13\n",
    "    5 9 12 14 15\n",
    "\n",
    "\"\"\"\n",
    "max = 5;\n",
    "\n",
    "for i in range (1, max+1):\n",
    "    k=i;\n",
    "    \n",
    "    for j in range (1,i+1):\n",
    "        print(k, \"\", end=\"\")\n",
    "        k=k+max-j;\n",
    "    print()"
   ]
  },
  {
   "cell_type": "code",
   "execution_count": null,
   "metadata": {},
   "outputs": [],
   "source": []
  }
 ],
 "metadata": {
  "kernelspec": {
   "display_name": "Python 3",
   "language": "python",
   "name": "python3"
  },
  "language_info": {
   "codemirror_mode": {
    "name": "ipython",
    "version": 3
   },
   "file_extension": ".py",
   "mimetype": "text/x-python",
   "name": "python",
   "nbconvert_exporter": "python",
   "pygments_lexer": "ipython3",
   "version": "3.7.3"
  }
 },
 "nbformat": 4,
 "nbformat_minor": 2
}
