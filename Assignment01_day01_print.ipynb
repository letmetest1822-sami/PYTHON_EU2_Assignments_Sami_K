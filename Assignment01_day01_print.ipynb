{
 "cells": [
  {
   "cell_type": "code",
   "execution_count": 8,
   "metadata": {},
   "outputs": [
    {
     "name": "stdout",
     "output_type": "stream",
     "text": [
      "I am ready to be a Python pro :)\n"
     ]
    }
   ],
   "source": [
    "print(\"I am ready to be a Python pro :)\")  "
   ]
  },
  {
   "cell_type": "code",
   "execution_count": 9,
   "metadata": {},
   "outputs": [
    {
     "name": "stdout",
     "output_type": "stream",
     "text": [
      "Turing, Alan\n"
     ]
    }
   ],
   "source": [
    "print(\"Turing, Alan\")"
   ]
  },
  {
   "cell_type": "code",
   "execution_count": 10,
   "metadata": {},
   "outputs": [
    {
     "name": "stdout",
     "output_type": "stream",
     "text": [
      "Q\n"
     ]
    }
   ],
   "source": [
    "print(\"Q\")"
   ]
  },
  {
   "cell_type": "code",
   "execution_count": 14,
   "metadata": {},
   "outputs": [
    {
     "name": "stdout",
     "output_type": "stream",
     "text": [
      "1\n",
      "2\n",
      "3\n",
      "4\n",
      "5\n",
      "6\n",
      "7\n",
      "8\n",
      "9\n",
      "10\n"
     ]
    }
   ],
   "source": [
    "print(\"1\")\n",
    "print(\"2\")\n",
    "print(\"3\")\n",
    "print(\"4\")\n",
    "print(\"5\")\n",
    "print(\"6\")\n",
    "print(\"7\")\n",
    "print(\"8\")\n",
    "print(\"9\")\n",
    "print(\"10\")\n"
   ]
  },
  {
   "cell_type": "code",
   "execution_count": 15,
   "metadata": {},
   "outputs": [
    {
     "name": "stdout",
     "output_type": "stream",
     "text": [
      "* * * * * * *\n",
      "* *       * *\n",
      "*   *   *   *\n",
      "*     *     *\n",
      "*   *   *   *\n",
      "* *       * *\n",
      "* * * * * * *\n"
     ]
    }
   ],
   "source": [
    "print(\"* * * * * * *\");\n",
    "print(\"* *       * *\");\n",
    "print(\"*   *   *   *\");\n",
    "print(\"*     *     *\");\n",
    "print(\"*   *   *   *\");\n",
    "print(\"* *       * *\");\n",
    "print(\"* * * * * * *\");"
   ]
  },
  {
   "cell_type": "code",
   "execution_count": 16,
   "metadata": {},
   "outputs": [
    {
     "name": "stdout",
     "output_type": "stream",
     "text": [
      "\t   ^    \n",
      "\t  / \\ \n",
      "\t /   \\ \n",
      "\t/     \\ \n",
      "\t|     | \n",
      "\t|     | \n",
      "\t|     | \n",
      "\t|     | \n",
      "\t|     | \n",
      "\t|     | \n",
      "\t|     | \n",
      "\t------- \n"
     ]
    }
   ],
   "source": [
    "print(\"\\t   ^    \");\n",
    "print(\"\\t  / \\\\ \");\n",
    "print(\"\\t /   \\\\ \");\n",
    "print(\"\\t/     \\\\ \");\n",
    "print(\"\\t|     | \");\n",
    "print(\"\\t|     | \");\n",
    "print(\"\\t|     | \");\n",
    "print(\"\\t|     | \");\n",
    "print(\"\\t|     | \");\n",
    "print(\"\\t|     | \");\n",
    "print(\"\\t|     | \");\n",
    "print(\"\\t------- \");"
   ]
  },
  {
   "cell_type": "code",
   "execution_count": 22,
   "metadata": {},
   "outputs": [
    {
     "name": "stdout",
     "output_type": "stream",
     "text": [
      "  /\\    /\\\n",
      " /__\\  /__\\\n"
     ]
    }
   ],
   "source": [
    "print(\"  /\\\\    /\\\\\");\n",
    "print(\" /__\\\\  /__\\\\\");"
   ]
  },
  {
   "cell_type": "code",
   "execution_count": 19,
   "metadata": {},
   "outputs": [
    {
     "name": "stdout",
     "output_type": "stream",
     "text": [
      "I am from 'Germany'\n"
     ]
    }
   ],
   "source": [
    "print(\"I am from 'Germany'\");"
   ]
  },
  {
   "cell_type": "code",
   "execution_count": 20,
   "metadata": {},
   "outputs": [
    {
     "name": "stdout",
     "output_type": "stream",
     "text": [
      "How is your day going on, 'good' or 'bad' ?\n"
     ]
    }
   ],
   "source": [
    "print(\"How is your day going on, 'good' or 'bad' ?\");"
   ]
  },
  {
   "cell_type": "code",
   "execution_count": 23,
   "metadata": {},
   "outputs": [
    {
     "name": "stdout",
     "output_type": "stream",
     "text": [
      "    ****         **     **\n",
      "  **    **       **    ** \n",
      " **      **      **   ** \n",
      "   **            **  ** \n",
      "     **          ** ** \n",
      "        **       **  ** \n",
      " **      **      **   ** \n",
      "  **    **       **    ** \n",
      "    ****         **     ** \n"
     ]
    }
   ],
   "source": [
    "print(\"    ****         **     **\");\n",
    "print(\"  **    **       **    ** \");\n",
    "print(\" **      **      **   ** \");\n",
    "print(\"   **            **  ** \");\n",
    "print(\"     **          ** ** \");\n",
    "print(\"        **       **  ** \");\n",
    "print(\" **      **      **   ** \");\n",
    "print(\"  **    **       **    ** \");\n",
    "print(\"    ****         **     ** \");"
   ]
  },
  {
   "cell_type": "code",
   "execution_count": null,
   "metadata": {},
   "outputs": [],
   "source": []
  }
 ],
 "metadata": {
  "kernelspec": {
   "display_name": "Python 3",
   "language": "python",
   "name": "python3"
  },
  "language_info": {
   "codemirror_mode": {
    "name": "ipython",
    "version": 3
   },
   "file_extension": ".py",
   "mimetype": "text/x-python",
   "name": "python",
   "nbconvert_exporter": "python",
   "pygments_lexer": "ipython3",
   "version": "3.7.3"
  }
 },
 "nbformat": 4,
 "nbformat_minor": 2
}
